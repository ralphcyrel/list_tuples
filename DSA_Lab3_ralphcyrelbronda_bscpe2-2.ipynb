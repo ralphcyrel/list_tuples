{
 "cells": [
  {
   "cell_type": "markdown",
   "source": [
    "Lab 3 Activity \n",
    "Ralph Cyrel B. Ronda\n",
    "BSCPE 2-2"
   ],
   "metadata": {
    "collapsed": false
   },
   "id": "aa75058cee6e1812"
  },
  {
   "cell_type": "markdown",
   "source": [
    "Lab 3 exercise 1"
   ],
   "metadata": {
    "collapsed": false
   },
   "id": "6db8c0e15dd32127"
  },
  {
   "cell_type": "code",
   "outputs": [
    {
     "name": "stdout",
     "output_type": "stream",
     "text": [
      "[121, 169, 225, 289, 361]\n"
     ]
    }
   ],
   "source": [
    "numbers = [11,12,13,14,15,16,17,18,19,20]\n",
    "odd_squared = [x ** 2 for x in numbers if x % 2 != 0]\n",
    "print(odd_squared)"
   ],
   "metadata": {
    "collapsed": false,
    "ExecuteTime": {
     "end_time": "2024-10-03T04:10:00.406772Z",
     "start_time": "2024-10-03T04:10:00.396125Z"
    }
   },
   "id": "27d34dbba7909bb2",
   "execution_count": 1
  },
  {
   "cell_type": "markdown",
   "source": [
    "Lab 3 Exercise 2 "
   ],
   "metadata": {
    "collapsed": false
   },
   "id": "271cdff057efcb26"
  },
  {
   "cell_type": "code",
   "outputs": [
    {
     "name": "stdout",
     "output_type": "stream",
     "text": [
      "[(88, 'Yunjin'), (81, 'Chaewon'), (18, 'Kazuha'), (28, 'Sakura'), (1, 'Eunchae')]\n"
     ]
    }
   ],
   "source": [
    "list_1 = [88, 81, 18, 28, 1] \n",
    "list_2 = ['Yunjin', 'Chaewon', 'Kazuha', 'Sakura', 'Eunchae']\n",
    "tuples_list = [(x,y) for x, y in zip(list_1, list_2)]\n",
    "print(tuples_list)"
   ],
   "metadata": {
    "collapsed": false,
    "ExecuteTime": {
     "end_time": "2024-10-03T04:22:15.441454Z",
     "start_time": "2024-10-03T04:22:15.430397Z"
    }
   },
   "id": "475972cea4e566b9",
   "execution_count": 6
  }
 ],
 "metadata": {
  "kernelspec": {
   "display_name": "Python 3",
   "language": "python",
   "name": "python3"
  },
  "language_info": {
   "codemirror_mode": {
    "name": "ipython",
    "version": 2
   },
   "file_extension": ".py",
   "mimetype": "text/x-python",
   "name": "python",
   "nbconvert_exporter": "python",
   "pygments_lexer": "ipython2",
   "version": "2.7.6"
  }
 },
 "nbformat": 4,
 "nbformat_minor": 5
}
