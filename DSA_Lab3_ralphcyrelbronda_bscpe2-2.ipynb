{
 "cells": [
  {
   "cell_type": "markdown",
   "source": [
    "Lab 3 Activity \n",
    "Ralph Cyrel B. Ronda\n",
    "BSCPE 2-2"
   ],
   "metadata": {
    "collapsed": false
   },
   "id": "aa75058cee6e1812"
  },
  {
   "cell_type": "markdown",
   "source": [
    "Lab 3 exercise 1"
   ],
   "metadata": {
    "collapsed": false
   },
   "id": "6db8c0e15dd32127"
  },
  {
   "cell_type": "code",
   "outputs": [],
   "source": [],
   "metadata": {
    "collapsed": false
   },
   "id": "27d34dbba7909bb2"
  }
 ],
 "metadata": {
  "kernelspec": {
   "display_name": "Python 3",
   "language": "python",
   "name": "python3"
  },
  "language_info": {
   "codemirror_mode": {
    "name": "ipython",
    "version": 2
   },
   "file_extension": ".py",
   "mimetype": "text/x-python",
   "name": "python",
   "nbconvert_exporter": "python",
   "pygments_lexer": "ipython2",
   "version": "2.7.6"
  }
 },
 "nbformat": 4,
 "nbformat_minor": 5
}
