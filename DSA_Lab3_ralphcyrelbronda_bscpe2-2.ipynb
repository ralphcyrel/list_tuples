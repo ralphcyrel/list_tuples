{
 "cells": [
  {
   "cell_type": "markdown",
   "source": [
    "Lab 3 Activity \n",
    "Ralph Cyrel B. Ronda\n",
    "BSCPE 2-2"
   ],
   "metadata": {
    "collapsed": false
   },
   "id": "aa75058cee6e1812"
  },
  {
   "cell_type": "markdown",
   "source": [
    "Lab 3 exercise 1"
   ],
   "metadata": {
    "collapsed": false
   },
   "id": "6db8c0e15dd32127"
  },
  {
   "cell_type": "code",
   "outputs": [
    {
     "name": "stdout",
     "output_type": "stream",
     "text": [
      "[1, 9, 25, 49, 81, 121, 169, 225, 289, 361, 441, 529, 625, 729, 841, 961, 1089, 1225, 1369, 1521, 1681, 1849, 2025, 2209, 2401, 2601, 2809, 3025, 3249, 3481, 3721, 3969, 4225, 4489, 4761, 5041, 5329, 5625, 5929, 6241, 6561, 6889, 7225, 7569, 7921, 8281, 8649, 9025, 9409, 9801]\n"
     ]
    }
   ],
   "source": [
    "odd_squared = [x ** 2 for x in range(101) if x % 2 !=0]\n",
    "print(odd_squared)"
   ],
   "metadata": {
    "collapsed": false,
    "ExecuteTime": {
     "end_time": "2024-10-09T03:17:16.024845Z",
     "start_time": "2024-10-09T03:17:16.015866Z"
    }
   },
   "id": "27d34dbba7909bb2",
   "execution_count": 9
  },
  {
   "cell_type": "markdown",
   "source": [
    "Lab 3 Exercise 2 "
   ],
   "metadata": {
    "collapsed": false
   },
   "id": "271cdff057efcb26"
  },
  {
   "cell_type": "code",
   "outputs": [
    {
     "name": "stdout",
     "output_type": "stream",
     "text": [
      "{'Yunjin': 88, 'Chaewon': 81, 'Kazuha': 18, 'Sakura': 28, 'Eunchae': 1}\n"
     ]
    }
   ],
   "source": [
    "jersey_number = {88: 'Yunjin', 81: 'Chaewon', 18: 'Kazuha', 28: 'Sakura', 1: 'Eunchae'}\n",
    "lesserafim = {value: key for key, value in jersey_number.items()}\n",
    "print(lesserafim)"
   ],
   "metadata": {
    "collapsed": false,
    "ExecuteTime": {
     "end_time": "2024-10-09T03:26:24.014703Z",
     "start_time": "2024-10-09T03:26:23.993698Z"
    }
   },
   "id": "475972cea4e566b9",
   "execution_count": 11
  },
  {
   "cell_type": "markdown",
   "source": [
    "Lab 3 Exercise 3"
   ],
   "metadata": {
    "collapsed": false
   },
   "id": "93a3736d2dbc05e2"
  },
  {
   "cell_type": "code",
   "outputs": [
    {
     "name": "stdout",
     "output_type": "stream",
     "text": [
      "vowelsIstoUpper:  thIs Is whAt yOU Ask fOr\n"
     ]
    }
   ],
   "source": [
    "def vowelsIstoUpper(input_string):\n",
    "    vowels = 'aeiouAEIOU'\n",
    "    result = ''.join([char.upper() if char in vowels else char for char in input_string])\n",
    "    return result\n",
    "\n",
    "user_input = input (\"Enter a string: \")\n",
    "output = vowelsIstoUpper(user_input)\n",
    "print(\"vowelsIstoUpper: \", output)\n"
   ],
   "metadata": {
    "collapsed": false,
    "ExecuteTime": {
     "end_time": "2024-10-09T03:31:15.356629Z",
     "start_time": "2024-10-09T03:31:11.193263Z"
    }
   },
   "id": "e5a35e015806cc05",
   "execution_count": 13
  }
 ],
 "metadata": {
  "kernelspec": {
   "display_name": "Python 3",
   "language": "python",
   "name": "python3"
  },
  "language_info": {
   "codemirror_mode": {
    "name": "ipython",
    "version": 2
   },
   "file_extension": ".py",
   "mimetype": "text/x-python",
   "name": "python",
   "nbconvert_exporter": "python",
   "pygments_lexer": "ipython2",
   "version": "2.7.6"
  }
 },
 "nbformat": 4,
 "nbformat_minor": 5
}
